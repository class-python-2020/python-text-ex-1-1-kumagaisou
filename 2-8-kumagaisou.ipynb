{
 "cells": [
  {
   "cell_type": "code",
   "execution_count": 1,
   "metadata": {
    "tags": []
   },
   "outputs": [
    {
     "output_type": "stream",
     "name": "stdout",
     "text": "2\n"
    }
   ],
   "source": [
    "my_list = [0,1,2,3,4,5,6,7,8]\n",
    "print(my_list[2])"
   ]
  },
  {
   "cell_type": "code",
   "execution_count": 2,
   "metadata": {
    "tags": []
   },
   "outputs": [
    {
     "output_type": "stream",
     "name": "stdout",
     "text": "8\n"
    }
   ],
   "source": [
    "print(my_list[-1])"
   ]
  },
  {
   "cell_type": "code",
   "execution_count": 3,
   "metadata": {},
   "outputs": [
    {
     "output_type": "execute_result",
     "data": {
      "text/plain": "[2, 3, 4, 5, 6]"
     },
     "metadata": {},
     "execution_count": 3
    }
   ],
   "source": [
    "my_list[2:7]"
   ]
  },
  {
   "cell_type": "code",
   "execution_count": 4,
   "metadata": {},
   "outputs": [
    {
     "output_type": "execute_result",
     "data": {
      "text/plain": "[2, 4, 6]"
     },
     "metadata": {},
     "execution_count": 4
    }
   ],
   "source": [
    "my_list[2:7:2]"
   ]
  },
  {
   "cell_type": "code",
   "execution_count": 5,
   "metadata": {},
   "outputs": [
    {
     "output_type": "execute_result",
     "data": {
      "text/plain": "[6, 5, 4, 3, 2]"
     },
     "metadata": {},
     "execution_count": 5
    }
   ],
   "source": [
    "my_list[6:1:-1]"
   ]
  },
  {
   "cell_type": "code",
   "execution_count": 6,
   "metadata": {},
   "outputs": [
    {
     "output_type": "execute_result",
     "data": {
      "text/plain": "[0, 1, 2, 3, 4, 5, 6, 7, 8]"
     },
     "metadata": {},
     "execution_count": 6
    }
   ],
   "source": [
    "my_list[:]"
   ]
  },
  {
   "cell_type": "code",
   "execution_count": 7,
   "metadata": {},
   "outputs": [
    {
     "output_type": "execute_result",
     "data": {
      "text/plain": "[8, 7, 6, 5, 4, 3, 2, 1, 0]"
     },
     "metadata": {},
     "execution_count": 7
    }
   ],
   "source": [
    "my_list[::-1]"
   ]
  },
  {
   "cell_type": "code",
   "execution_count": 8,
   "metadata": {},
   "outputs": [
    {
     "output_type": "execute_result",
     "data": {
      "text/plain": "[6, 7, 8]"
     },
     "metadata": {},
     "execution_count": 8
    }
   ],
   "source": [
    "my_list[6:100]"
   ]
  },
  {
   "cell_type": "code",
   "execution_count": 9,
   "metadata": {},
   "outputs": [
    {
     "output_type": "execute_result",
     "data": {
      "text/plain": "[]"
     },
     "metadata": {},
     "execution_count": 9
    }
   ],
   "source": [
    "my_list[50:100]"
   ]
  },
  {
   "cell_type": "code",
   "execution_count": 10,
   "metadata": {},
   "outputs": [
    {
     "output_type": "execute_result",
     "data": {
      "text/plain": "[0, 1, 2]"
     },
     "metadata": {},
     "execution_count": 10
    }
   ],
   "source": [
    "my_list[:3]"
   ]
  },
  {
   "cell_type": "code",
   "execution_count": 11,
   "metadata": {},
   "outputs": [
    {
     "output_type": "execute_result",
     "data": {
      "text/plain": "[4, 5, 6, 7, 8]"
     },
     "metadata": {},
     "execution_count": 11
    }
   ],
   "source": [
    "my_list[4:]"
   ]
  },
  {
   "cell_type": "code",
   "execution_count": 12,
   "metadata": {},
   "outputs": [
    {
     "output_type": "execute_result",
     "data": {
      "text/plain": "[-1, 1, 2, 3, 4, 5, 6, 7, 8]"
     },
     "metadata": {},
     "execution_count": 12
    }
   ],
   "source": [
    "my_list[0] = -1\n",
    "my_list"
   ]
  },
  {
   "cell_type": "code",
   "execution_count": 13,
   "metadata": {},
   "outputs": [
    {
     "output_type": "execute_result",
     "data": {
      "text/plain": "[0, 1, 102, 103, 4, 5, 6, 7, 8]"
     },
     "metadata": {},
     "execution_count": 13
    }
   ],
   "source": [
    "my_list[0] = 0\n",
    "my_list[2:4] = [102,103]\n",
    "my_list"
   ]
  },
  {
   "cell_type": "code",
   "execution_count": 14,
   "metadata": {},
   "outputs": [
    {
     "output_type": "execute_result",
     "data": {
      "text/plain": "[0, 1, 101, 102, 103, 104, 4, 5, 6, 7, 8]"
     },
     "metadata": {},
     "execution_count": 14
    }
   ],
   "source": [
    "my_list = [0,1,2,3,4,5,6,7,8]\n",
    "my_list[2:4] = [101,102,103,104]\n",
    "my_list"
   ]
  },
  {
   "cell_type": "code",
   "execution_count": 15,
   "metadata": {},
   "outputs": [
    {
     "output_type": "execute_result",
     "data": {
      "text/plain": "[0, 1, 101, 102, 2, 3, 4, 5, 6, 7, 8]"
     },
     "metadata": {},
     "execution_count": 15
    }
   ],
   "source": [
    "my_list = [0,1,2,3,4,5,6,7,8]\n",
    "my_list[2:2] = [101,102]\n",
    "my_list"
   ]
  },
  {
   "cell_type": "code",
   "execution_count": 16,
   "metadata": {},
   "outputs": [
    {
     "output_type": "execute_result",
     "data": {
      "text/plain": "[0, 1, 101, 102, 6, 7, 8]"
     },
     "metadata": {},
     "execution_count": 16
    }
   ],
   "source": [
    "my_list = [0,1,2,3,4,5,6,7,8]\n",
    "my_list[2:6] = [101,102]\n",
    "my_list"
   ]
  },
  {
   "cell_type": "code",
   "execution_count": 17,
   "metadata": {},
   "outputs": [
    {
     "output_type": "execute_result",
     "data": {
      "text/plain": "[0, 1, 6, 7, 8]"
     },
     "metadata": {},
     "execution_count": 17
    }
   ],
   "source": [
    "my_list = [0,1,2,3,4,5,6,7,8]\n",
    "my_list[2:6] = []\n",
    "my_list"
   ]
  },
  {
   "cell_type": "code",
   "execution_count": 18,
   "metadata": {},
   "outputs": [
    {
     "output_type": "execute_result",
     "data": {
      "text/plain": "[10, 8, 6, 4, 2]"
     },
     "metadata": {},
     "execution_count": 18
    }
   ],
   "source": [
    "my_list = [1,2,3,4,5,6,7,8,9,10]\n",
    "reverse_even = my_list[::-2]\n",
    "reverse_even"
   ]
  },
  {
   "cell_type": "code",
   "execution_count": 19,
   "metadata": {},
   "outputs": [
    {
     "output_type": "execute_result",
     "data": {
      "text/plain": "['I', 'have', 'a', 'pineapple']"
     },
     "metadata": {},
     "execution_count": 19
    }
   ],
   "source": [
    "my_list = ['I','have','an','apple']\n",
    "my_list[2:4] = ['a','pineapple']\n",
    "my_list"
   ]
  }
 ],
 "metadata": {
  "language_info": {
   "codemirror_mode": {
    "name": "ipython",
    "version": 3
   },
   "file_extension": ".py",
   "mimetype": "text/x-python",
   "name": "python",
   "nbconvert_exporter": "python",
   "pygments_lexer": "ipython3",
   "version": 3
  },
  "orig_nbformat": 2,
  "kernelspec": {
   "name": "python_defaultSpec_1594782029307",
   "display_name": "Python 3.8.2 32-bit"
  }
 },
 "nbformat": 4,
 "nbformat_minor": 2
}