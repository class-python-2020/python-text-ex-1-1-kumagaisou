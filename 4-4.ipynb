{
 "metadata": {
  "language_info": {
   "codemirror_mode": {
    "name": "ipython",
    "version": 3
   },
   "file_extension": ".py",
   "mimetype": "text/x-python",
   "name": "python",
   "nbconvert_exporter": "python",
   "pygments_lexer": "ipython3",
   "version": 3
  },
  "orig_nbformat": 2,
  "kernelspec": {
   "name": "python_defaultSpec_1596258399678",
   "display_name": "Python 3.8.2 32-bit"
  }
 },
 "nbformat": 4,
 "nbformat_minor": 2,
 "cells": [
  {
   "cell_type": "code",
   "execution_count": 3,
   "metadata": {
    "tags": []
   },
   "outputs": [
    {
     "output_type": "stream",
     "name": "stdout",
     "text": "a: cat\nv: carrot\n"
    }
   ],
   "source": [
    "a = 'cat'\n",
    "print('a:', a)\n",
    "\n",
    "def m():\n",
    "    v = 'carrot'\n",
    "    print('v:', v)\n",
    "\n",
    "m()"
   ]
  },
  {
   "cell_type": "code",
   "execution_count": 5,
   "metadata": {
    "tags": []
   },
   "outputs": [
    {
     "output_type": "stream",
     "name": "stdout",
     "text": "animal: cat\nanimal: dog\nanimal: cat\n"
    }
   ],
   "source": [
    "a = 'cat'\n",
    "print('animal:', a)\n",
    "\n",
    "def m():\n",
    "    a = 'dog'\n",
    "    print('animal:', a)\n",
    "\n",
    "m()\n",
    "print('animal:',a)"
   ]
  },
  {
   "cell_type": "code",
   "execution_count": 10,
   "metadata": {
    "tags": []
   },
   "outputs": [
    {
     "output_type": "stream",
     "name": "stdout",
     "text": "animal cat\nanimal dog\nanimal: dog\n"
    }
   ],
   "source": [
    "animal = 'cat'\n",
    "print('animal', animal)\n",
    "\n",
    "def m():\n",
    "    global animal\n",
    "    animal = 'dog'\n",
    "    print('animal', animal)\n",
    "\n",
    "m()\n",
    "\n",
    "print('animal:', animal)"
   ]
  },
  {
   "cell_type": "code",
   "execution_count": 12,
   "metadata": {},
   "outputs": [],
   "source": [
    "vote_num = 0\n",
    "def vote():\n",
    "    print('投票します')\n",
    "    global vote_num\n",
    "    vote_num += 1\n",
    "\n",
    "def reset_box():\n",
    "    global vote_num\n",
    "    print('箱を空にします')\n",
    "    vote_num = 0\n",
    "\n",
    "def check_box():\n",
    "    global vote_num\n",
    "    print(f'票の数は{vote_num}です')"
   ]
  },
  {
   "cell_type": "code",
   "execution_count": 13,
   "metadata": {
    "tags": []
   },
   "outputs": [
    {
     "output_type": "stream",
     "name": "stdout",
     "text": "投票します\n票の数は1です\n投票します\n票の数は2です\n投票します\n投票します\n投票します\n票の数は5です\n箱を空にします\n票の数は0です\n"
    }
   ],
   "source": [
    "vote()\n",
    "check_box()\n",
    "vote()\n",
    "check_box()\n",
    "for i in range(3):\n",
    "    vote()\n",
    "check_box()\n",
    "reset_box()\n",
    "check_box()\n"
   ]
  },
  {
   "cell_type": "code",
   "execution_count": 15,
   "metadata": {},
   "outputs": [],
   "source": [
    "vote_num = 0\n",
    "\n",
    "def vote(vote_num):\n",
    "    print('投票します')\n",
    "    vote_num += 1\n",
    "    return vote_num\n",
    "def reset_box(vote_num):\n",
    "    print('箱を空にします')\n",
    "    vote_num = 0\n",
    "    return vote_num\n",
    "def check_box(vote_num):\n",
    "    print(f'票の数は{vote_num}です')"
   ]
  },
  {
   "cell_type": "code",
   "execution_count": 16,
   "metadata": {
    "tags": []
   },
   "outputs": [
    {
     "output_type": "stream",
     "name": "stdout",
     "text": "投票します\n票の数は1です\n投票します\n票の数は2です\n投票します\n投票します\n投票します\n票の数は5です\n箱を空にします\n票の数は0です\n"
    }
   ],
   "source": [
    "vote_num = vote(vote_num)\n",
    "check_box(vote_num)\n",
    "vote_num = vote(vote_num)\n",
    "check_box(vote_num)\n",
    "for i in range(3):\n",
    "    vote_num  =vote(vote_num)\n",
    "check_box(vote_num)\n",
    "vote_num = reset_box(vote_num)\n",
    "check_box(vote_num)"
   ]
  }
 ]
}