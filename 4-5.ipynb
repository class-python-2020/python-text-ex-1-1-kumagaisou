{
 "metadata": {
  "language_info": {
   "codemirror_mode": {
    "name": "ipython",
    "version": 3
   },
   "file_extension": ".py",
   "mimetype": "text/x-python",
   "name": "python",
   "nbconvert_exporter": "python",
   "pygments_lexer": "ipython3",
   "version": 3
  },
  "orig_nbformat": 2,
  "kernelspec": {
   "name": "python_defaultSpec_1596361276393",
   "display_name": "Python 3.8.2 32-bit"
  }
 },
 "nbformat": 4,
 "nbformat_minor": 2,
 "cells": [
  {
   "cell_type": "code",
   "execution_count": 3,
   "metadata": {},
   "outputs": [
    {
     "output_type": "execute_result",
     "data": {
      "text/plain": "10"
     },
     "metadata": {},
     "execution_count": 3
    }
   ],
   "source": [
    "sum([1,2,3,4])"
   ]
  },
  {
   "cell_type": "code",
   "execution_count": 5,
   "metadata": {},
   "outputs": [
    {
     "output_type": "execute_result",
     "data": {
      "text/plain": "45"
     },
     "metadata": {},
     "execution_count": 5
    }
   ],
   "source": [
    "sum(range(10))"
   ]
  },
  {
   "cell_type": "code",
   "execution_count": 7,
   "metadata": {},
   "outputs": [
    {
     "output_type": "execute_result",
     "data": {
      "text/plain": "10"
     },
     "metadata": {},
     "execution_count": 7
    }
   ],
   "source": [
    "add_all = sum\n",
    "add_all([1,2,3,4])"
   ]
  },
  {
   "cell_type": "code",
   "execution_count": 9,
   "metadata": {},
   "outputs": [
    {
     "output_type": "execute_result",
     "data": {
      "text/plain": "45"
     },
     "metadata": {},
     "execution_count": 9
    }
   ],
   "source": [
    "add_all(range(10))"
   ]
  },
  {
   "cell_type": "code",
   "execution_count": 11,
   "metadata": {},
   "outputs": [],
   "source": [
    "def say():\n",
    "    print('こんにちは')"
   ]
  },
  {
   "cell_type": "code",
   "execution_count": 14,
   "metadata": {
    "tags": []
   },
   "outputs": [
    {
     "output_type": "stream",
     "name": "stdout",
     "text": "こんにちは\n"
    }
   ],
   "source": [
    "say()"
   ]
  },
  {
   "cell_type": "code",
   "execution_count": 18,
   "metadata": {},
   "outputs": [],
   "source": [
    "def run(func):\n",
    "    for i in range(2):\n",
    "        func()"
   ]
  },
  {
   "cell_type": "code",
   "execution_count": 19,
   "metadata": {
    "tags": []
   },
   "outputs": [
    {
     "output_type": "stream",
     "name": "stdout",
     "text": "こんにちは\nこんにちは\n"
    }
   ],
   "source": [
    "run(say)"
   ]
  },
  {
   "cell_type": "code",
   "execution_count": 29,
   "metadata": {},
   "outputs": [],
   "source": [
    "def multi(number):\n",
    "    if number == 0:\n",
    "        print('min', end = ' ')\n",
    "        return min\n",
    "    elif number == 1:\n",
    "        print('max', end = ' ')\n",
    "        return max\n",
    "    else:\n",
    "        print('sum', end = ' ')\n",
    "        return sum"
   ]
  },
  {
   "cell_type": "code",
   "execution_count": 30,
   "metadata": {
    "tags": []
   },
   "outputs": [
    {
     "output_type": "stream",
     "name": "stdout",
     "text": "min 1\nmax 4\nsum 10\n"
    }
   ],
   "source": [
    "num = [1,2,3,4]\n",
    "for i in [0,1,2]:\n",
    "    func = multi(i)\n",
    "    print(func(num))"
   ]
  },
  {
   "cell_type": "code",
   "execution_count": 32,
   "metadata": {
    "tags": []
   },
   "outputs": [
    {
     "output_type": "stream",
     "name": "stdout",
     "text": "min 1\nmax 4\nsum 10\n"
    }
   ],
   "source": [
    "num = [1,2,3,4]\n",
    "for i in [0,1,2]:\n",
    "    print(multi(i)(num))"
   ]
  },
  {
   "cell_type": "code",
   "execution_count": 33,
   "metadata": {
    "tags": []
   },
   "outputs": [
    {
     "output_type": "stream",
     "name": "stdout",
     "text": "Function:sum, Result:55\nFunction:min, Result:1\nFunction:max, Result:10\n"
    }
   ],
   "source": [
    "f = [sum, min, max]\n",
    "number = range(1, 11)\n",
    "for func in f:\n",
    "    print('Function:{}, Result:{}'.format(func.__name__, func(number)))"
   ]
  },
  {
   "cell_type": "code",
   "execution_count": 36,
   "metadata": {
    "tags": []
   },
   "outputs": [
    {
     "output_type": "stream",
     "name": "stdout",
     "text": "[[1.0, 2.2, 3.5], [2.1, 3.2, 5.5], [1.2, 1.3, 2.2], [2.1, 3.1, 4.5]]\n"
    }
   ],
   "source": [
    "s_list = [\"1.0, 2.2, 3.5\", \"2.1, 3.2, 5.5\", \"1.2, 1.3, 2.2\", \"2.1, 3.1, 4.5\"]\n",
    "\n",
    "def str(s_coordi):\n",
    "    p = s_coordi.split(',')\n",
    "    return list(map(float, p))\n",
    "\n",
    "def str_iter(s_coodi_l):\n",
    "    return map(str, s_list)\n",
    "\n",
    "f_coodi = list(str_iter(s_list))\n",
    "\n",
    "print(f_coodi)"
   ]
  }
 ]
}