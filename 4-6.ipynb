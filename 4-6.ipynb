{
 "metadata": {
  "language_info": {
   "codemirror_mode": {
    "name": "ipython",
    "version": 3
   },
   "file_extension": ".py",
   "mimetype": "text/x-python",
   "name": "python",
   "nbconvert_exporter": "python",
   "pygments_lexer": "ipython3",
   "version": 3
  },
  "orig_nbformat": 2,
  "kernelspec": {
   "name": "python_defaultSpec_1596596613121",
   "display_name": "Python 3.8.2 32-bit"
  }
 },
 "nbformat": 4,
 "nbformat_minor": 2,
 "cells": [
  {
   "cell_type": "code",
   "execution_count": 2,
   "metadata": {
    "tags": []
   },
   "outputs": [
    {
     "output_type": "stream",
     "name": "stdout",
     "text": "100\n"
    }
   ],
   "source": [
    "def square(x):\n",
    "    return x ** 2\n",
    "\n",
    "print(square(10))"
   ]
  },
  {
   "cell_type": "code",
   "execution_count": 4,
   "metadata": {
    "tags": []
   },
   "outputs": [
    {
     "output_type": "stream",
     "name": "stdout",
     "text": "100\n"
    }
   ],
   "source": [
    "sq_func = lambda x: x ** 2\n",
    "\n",
    "print(sq_func(10))"
   ]
  },
  {
   "cell_type": "code",
   "execution_count": 7,
   "metadata": {
    "tags": []
   },
   "outputs": [
    {
     "output_type": "stream",
     "name": "stdout",
     "text": "文字列リスト: ['No.1', 'No.2', 'No.3', 'No.4', 'No.5', 'No.6', 'No.7', 'No.8', 'No.9', 'No.10']\n"
    }
   ],
   "source": [
    "num_list = range(1, 11)\n",
    "n_list = list(map(lambda i: 'No.' + str(i), num_list))\n",
    "print('文字列リスト:', n_list)"
   ]
  },
  {
   "cell_type": "code",
   "execution_count": 10,
   "metadata": {
    "tags": []
   },
   "outputs": [
    {
     "output_type": "stream",
     "name": "stdout",
     "text": "No.1 No.2 No.3 No.4 No.5 No.6 No.7 No.8 No.9 No.10"
    }
   ],
   "source": [
    "for i in map(lambda i: 'No.' + str(i), range(1, 11)):\n",
    "    print(i, end = ' ')"
   ]
  },
  {
   "cell_type": "code",
   "execution_count": 12,
   "metadata": {
    "tags": []
   },
   "outputs": [
    {
     "output_type": "stream",
     "name": "stdout",
     "text": "2 4 6 8 10"
    }
   ],
   "source": [
    "for e in filter(lambda i: i % 2 == 0, range(1, 11)):\n",
    "    print(e, end = ' ')"
   ]
  },
  {
   "cell_type": "code",
   "execution_count": 15,
   "metadata": {
    "tags": []
   },
   "outputs": [
    {
     "output_type": "stream",
     "name": "stdout",
     "text": "2 4 6 8 10"
    }
   ],
   "source": [
    "def is_even(x):\n",
    "    return x % 2 == 0\n",
    "\n",
    "for e in filter(is_even, range(1, 11)):\n",
    "    print(e , end = ' ')"
   ]
  },
  {
   "cell_type": "code",
   "execution_count": 17,
   "metadata": {
    "tags": []
   },
   "outputs": [
    {
     "output_type": "stream",
     "name": "stdout",
     "text": "[(2, 'down'), (1, 'up'), (4, 'charm'), (3, 'strange'), (6, 'top'), (5, 'bottom')]\n"
    }
   ],
   "source": [
    "pairs = [(2, 'down'), (1, 'up'), (4, 'charm'), (3, 'strange'), (6, 'top'), (5, 'bottom')]\n",
    "print(pairs)"
   ]
  },
  {
   "cell_type": "code",
   "execution_count": 19,
   "metadata": {
    "tags": []
   },
   "outputs": [
    {
     "output_type": "stream",
     "name": "stdout",
     "text": "[(1, 'up'), (2, 'down'), (3, 'strange'), (4, 'charm'), (5, 'bottom'), (6, 'top')]\n"
    }
   ],
   "source": [
    "pairs.sort()\n",
    "print(pairs)"
   ]
  },
  {
   "cell_type": "code",
   "execution_count": 21,
   "metadata": {
    "tags": []
   },
   "outputs": [
    {
     "output_type": "stream",
     "name": "stdout",
     "text": "[(1, 'up'), (6, 'top'), (3, 'strange'), (2, 'down'), (4, 'charm'), (5, 'bottom')]\n"
    }
   ],
   "source": [
    "pairs.sort(key = lambda x: x[1], reverse = True)\n",
    "print(pairs)"
   ]
  },
  {
   "cell_type": "code",
   "execution_count": 25,
   "metadata": {},
   "outputs": [
    {
     "output_type": "execute_result",
     "data": {
      "text/plain": "'odd'"
     },
     "metadata": {},
     "execution_count": 25
    }
   ],
   "source": [
    "n = 3\n",
    "func = lambda n: 'even' if (n % 2 == 0) else 'odd'\n",
    "func(n)"
   ]
  },
  {
   "cell_type": "code",
   "execution_count": 27,
   "metadata": {
    "tags": []
   },
   "outputs": [
    {
     "output_type": "stream",
     "name": "stdout",
     "text": "odd\n"
    }
   ],
   "source": [
    "n = 3\n",
    "x = 'even' if (n % 2 == 0) else 'odd'\n",
    "print(x)"
   ]
  },
  {
   "cell_type": "code",
   "execution_count": 29,
   "metadata": {
    "tags": []
   },
   "outputs": [
    {
     "output_type": "stream",
     "name": "stdout",
     "text": "odd\n"
    }
   ],
   "source": [
    "n = 3\n",
    "if (n % 2 == 0):\n",
    "    x = 'even'\n",
    "else:\n",
    "    x = 'odd'\n",
    "print(x)"
   ]
  },
  {
   "cell_type": "code",
   "execution_count": 1,
   "metadata": {},
   "outputs": [
    {
     "output_type": "execute_result",
     "data": {
      "text/plain": "<map at 0x5e775b0>"
     },
     "metadata": {},
     "execution_count": 1
    }
   ],
   "source": [
    "l = map(lambda x: '{:04}'.format(x), range(1, 8))\n",
    "l"
   ]
  },
  {
   "cell_type": "code",
   "execution_count": 2,
   "metadata": {
    "tags": []
   },
   "outputs": [
    {
     "output_type": "stream",
     "name": "stdout",
     "text": "['0001', '0002', '0003', '0004', '0005', '0006', '0007']\n"
    }
   ],
   "source": [
    "print(list(l))"
   ]
  },
  {
   "cell_type": "code",
   "execution_count": 7,
   "metadata": {
    "tags": []
   },
   "outputs": [
    {
     "output_type": "stream",
     "name": "stdout",
     "text": "i, name, height, weight\n1 n15 166 79\n...\n9 n25 171 69\n"
    }
   ],
   "source": [
    "import random\n",
    "def generate(num = 10):\n",
    "    data = []\n",
    "    for i in range(num):\n",
    "        name = 'n' + str(random.randint(10, 50))\n",
    "        height = random.randint(150, 190)\n",
    "        weight = random.randint(50, 80)\n",
    "        data.append((name, height, weight))\n",
    "        if i == 0:\n",
    "            print('i, name, height, weight')\n",
    "        elif i < 2 or i == num - 1:\n",
    "            print(i, name, height, weight)\n",
    "        elif i == 2:\n",
    "            print('...')\n",
    "    return data\n",
    "\n",
    "data = generate(10)"
   ]
  },
  {
   "cell_type": "code",
   "execution_count": 9,
   "metadata": {},
   "outputs": [
    {
     "output_type": "execute_result",
     "data": {
      "text/plain": "[('n38', 183, 77),\n ('n15', 166, 79),\n ('n21', 165, 76),\n ('n17', 160, 74),\n ('n20', 178, 74),\n ('n32', 150, 53),\n ('n19', 163, 72),\n ('n23', 173, 70),\n ('n16', 179, 59),\n ('n25', 171, 69)]"
     },
     "metadata": {},
     "execution_count": 9
    }
   ],
   "source": [
    "data"
   ]
  },
  {
   "cell_type": "code",
   "execution_count": 11,
   "metadata": {},
   "outputs": [],
   "source": [
    "s_hight = sorted(data, key = lambda s: s[1])\n",
    "s_weight =sorted(data, key = lambda s: s[2])"
   ]
  },
  {
   "cell_type": "code",
   "execution_count": 13,
   "metadata": {
    "tags": []
   },
   "outputs": [
    {
     "output_type": "stream",
     "name": "stdout",
     "text": "\nSort by height\n('n32', 150, 53)\n('n17', 160, 74)\n('n19', 163, 72)\n('n21', 165, 76)\n('n15', 166, 79)\n('n25', 171, 69)\n('n23', 173, 70)\n('n20', 178, 74)\n('n16', 179, 59)\n('n38', 183, 77)\n"
    }
   ],
   "source": [
    "print('\\nSort by height')\n",
    "for student in s_hight:\n",
    "    print(student)"
   ]
  },
  {
   "cell_type": "code",
   "execution_count": 14,
   "metadata": {
    "tags": []
   },
   "outputs": [
    {
     "output_type": "stream",
     "name": "stdout",
     "text": "\nSort by weight\n('n32', 150, 53)\n('n16', 179, 59)\n('n25', 171, 69)\n('n23', 173, 70)\n('n19', 163, 72)\n('n17', 160, 74)\n('n20', 178, 74)\n('n21', 165, 76)\n('n38', 183, 77)\n('n15', 166, 79)\n"
    }
   ],
   "source": [
    "print('\\nSort by weight')\n",
    "for student in s_weight:\n",
    "    print(student)"
   ]
  }
 ]
}