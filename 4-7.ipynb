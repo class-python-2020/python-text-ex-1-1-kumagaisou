{
 "metadata": {
  "language_info": {
   "codemirror_mode": {
    "name": "ipython",
    "version": 3
   },
   "file_extension": ".py",
   "mimetype": "text/x-python",
   "name": "python",
   "nbconvert_exporter": "python",
   "pygments_lexer": "ipython3",
   "version": 3
  },
  "orig_nbformat": 2,
  "kernelspec": {
   "name": "python_defaultSpec_1596619043235",
   "display_name": "Python 3.8.2 32-bit"
  }
 },
 "nbformat": 4,
 "nbformat_minor": 2,
 "cells": [
  {
   "cell_type": "code",
   "execution_count": 2,
   "metadata": {},
   "outputs": [],
   "source": [
    "def outer(a, b):\n",
    "    print('outer fuction (a, b) = ({}, {})'.format(a, b))\n",
    "    def inner(c, d):\n",
    "        print('inner function (c, d) = ({}, {})'.format(c, d))\n",
    "        return c * d\n",
    "    return inner(a, b)"
   ]
  },
  {
   "cell_type": "code",
   "execution_count": 4,
   "metadata": {
    "tags": []
   },
   "outputs": [
    {
     "output_type": "stream",
     "name": "stdout",
     "text": "outer fuction (a, b) = (4, 7)\ninner function (c, d) = (4, 7)\n28\n"
    }
   ],
   "source": [
    "a = outer(4, 7)\n",
    "print(a)"
   ]
  },
  {
   "cell_type": "code",
   "execution_count": 6,
   "metadata": {},
   "outputs": [
    {
     "output_type": "execute_result",
     "data": {
      "text/plain": "\"we are the knights who say: 'Ni!'\""
     },
     "metadata": {},
     "execution_count": 6
    }
   ],
   "source": [
    "def knights(saying):\n",
    "    def inner(quote):\n",
    "        return \"we are the knights who say: '%s'\" % quote\n",
    "    return inner(saying)\n",
    "\n",
    "knights('Ni!')"
   ]
  },
  {
   "cell_type": "code",
   "execution_count": 8,
   "metadata": {},
   "outputs": [],
   "source": [
    "def make_circle(pi = 3.14):\n",
    "    def circle_area(radius):\n",
    "        return radius * radius * pi\n",
    "    return circle_area\n",
    "\n",
    "circle_default = make_circle()\n",
    "c_a = make_circle(pi = 3.1414926535)"
   ]
  },
  {
   "cell_type": "code",
   "execution_count": 10,
   "metadata": {},
   "outputs": [
    {
     "output_type": "execute_result",
     "data": {
      "text/plain": "(function, function)"
     },
     "metadata": {},
     "execution_count": 10
    }
   ],
   "source": [
    "type(circle_default), type(c_a)"
   ]
  },
  {
   "cell_type": "code",
   "execution_count": 11,
   "metadata": {
    "tags": []
   },
   "outputs": [
    {
     "output_type": "stream",
     "name": "stdout",
     "text": "12.56\n12.565970614\n"
    }
   ],
   "source": [
    "print(circle_default(2))\n",
    "print(c_a(2))"
   ]
  },
  {
   "cell_type": "code",
   "execution_count": 12,
   "metadata": {
    "tags": []
   },
   "outputs": [
    {
     "output_type": "stream",
     "name": "stdout",
     "text": "1\n2\n3\n"
    }
   ],
   "source": [
    "def make():\n",
    "    n = 0\n",
    "    def count():\n",
    "        nonlocal n\n",
    "        n += 1\n",
    "        return n\n",
    "    return count\n",
    "\n",
    "counter = make()\n",
    "print(counter())\n",
    "print(counter())\n",
    "print(counter())"
   ]
  },
  {
   "cell_type": "code",
   "execution_count": 14,
   "metadata": {
    "tags": []
   },
   "outputs": [
    {
     "output_type": "stream",
     "name": "stdout",
     "text": "=== flag: red\nSelection is 0 which may be the default\n====\n==== flag blue\nyour choice is 1\n=====\n"
    }
   ],
   "source": [
    "def show(num = 0):\n",
    "    if num == 0:\n",
    "        flag = 'red'\n",
    "        print('=== flag:', flag)\n",
    "        print('Selection is', num, 'which may be the default')\n",
    "        print('====')\n",
    "    else:\n",
    "        flag = 'blue'\n",
    "        print('==== flag', flag)\n",
    "        print('your choice is', num)\n",
    "        print('=====')\n",
    "show(0)\n",
    "show(1)"
   ]
  },
  {
   "cell_type": "code",
   "execution_count": 17,
   "metadata": {
    "tags": []
   },
   "outputs": [
    {
     "output_type": "stream",
     "name": "stdout",
     "text": "==== flag: red\nselection is 0 which may be the default\n====\n==== flag: blue\nyour choice is 1\n====\n"
    }
   ],
   "source": [
    "def show(num = 0):\n",
    "    def decolate(func):\n",
    "        if num == 0:\n",
    "            flag = 'red'\n",
    "        else:\n",
    "            flag = 'blue'\n",
    "        print('==== flag:', flag)\n",
    "        func()\n",
    "        print('====')\n",
    "    def show(num = num):\n",
    "        if num == 0:\n",
    "            print('selection is', num, 'which may be the default')\n",
    "        else:\n",
    "            print('your choice is', num)\n",
    "    \n",
    "    decolate(show)\n",
    "show(0)\n",
    "show(1)"
   ]
  },
  {
   "cell_type": "code",
   "execution_count": 19,
   "metadata": {},
   "outputs": [],
   "source": [
    "def make():\n",
    "    def add(x, y):\n",
    "        return x + y\n",
    "    return add"
   ]
  },
  {
   "cell_type": "code",
   "execution_count": 20,
   "metadata": {
    "tags": []
   },
   "outputs": [
    {
     "output_type": "stream",
     "name": "stdout",
     "text": "11\n"
    }
   ],
   "source": [
    "adder = make()\n",
    "answer = adder(1, 10)\n",
    "print(answer)"
   ]
  },
  {
   "cell_type": "code",
   "execution_count": 22,
   "metadata": {},
   "outputs": [],
   "source": [
    "def make():\n",
    "    print('足し算する関数を作成')\n",
    "    def add(x, y):\n",
    "        print('{} + {} = {}'.format(x, y, x + y))\n",
    "        return x + y\n",
    "    return add"
   ]
  },
  {
   "cell_type": "code",
   "execution_count": 24,
   "metadata": {
    "tags": []
   },
   "outputs": [
    {
     "output_type": "stream",
     "name": "stdout",
     "text": "足し算する関数を作成\n"
    }
   ],
   "source": [
    "adder = make()"
   ]
  },
  {
   "cell_type": "code",
   "execution_count": 26,
   "metadata": {
    "tags": []
   },
   "outputs": [
    {
     "output_type": "stream",
     "name": "stdout",
     "text": "1 + 10 = 11\n"
    }
   ],
   "source": [
    "answer = adder(1, 10)"
   ]
  },
  {
   "cell_type": "code",
   "execution_count": 27,
   "metadata": {
    "tags": []
   },
   "outputs": [
    {
     "output_type": "stream",
     "name": "stdout",
     "text": "11\n"
    }
   ],
   "source": [
    "print(answer)"
   ]
  }
 ]
}