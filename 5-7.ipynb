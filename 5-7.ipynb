{
 "metadata": {
  "language_info": {
   "codemirror_mode": {
    "name": "ipython",
    "version": 3
   },
   "file_extension": ".py",
   "mimetype": "text/x-python",
   "name": "python",
   "nbconvert_exporter": "python",
   "pygments_lexer": "ipython3",
   "version": 3
  },
  "orig_nbformat": 2,
  "kernelspec": {
   "name": "python_defaultSpec_1596964578014",
   "display_name": "Python 3.8.2 32-bit"
  }
 },
 "nbformat": 4,
 "nbformat_minor": 2,
 "cells": [
  {
   "cell_type": "code",
   "execution_count": 1,
   "metadata": {},
   "outputs": [
    {
     "output_type": "execute_result",
     "data": {
      "text/plain": "{1: 'Hokkaido', 2: 'Aomori', 3: 'Iwate'}"
     },
     "metadata": {},
     "execution_count": 1
    }
   ],
   "source": [
    "pre = {1: 'Hokkaido', 2: 'Aomori', 3: 'Iwate'}\n",
    "pre"
   ]
  },
  {
   "cell_type": "code",
   "execution_count": 2,
   "metadata": {},
   "outputs": [
    {
     "output_type": "execute_result",
     "data": {
      "text/plain": "'Hokkaido'"
     },
     "metadata": {},
     "execution_count": 2
    }
   ],
   "source": [
    "pre[1]"
   ]
  },
  {
   "cell_type": "code",
   "execution_count": 4,
   "metadata": {
    "tags": []
   },
   "outputs": [
    {
     "output_type": "stream",
     "name": "stdout",
     "text": "None\n"
    }
   ],
   "source": [
    "print(pre.get(0))"
   ]
  },
  {
   "cell_type": "code",
   "execution_count": 5,
   "metadata": {
    "tags": []
   },
   "outputs": [
    {
     "output_type": "stream",
     "name": "stdout",
     "text": "Hokkaido\n"
    }
   ],
   "source": [
    "print(pre.get(1))"
   ]
  },
  {
   "cell_type": "code",
   "execution_count": 7,
   "metadata": {
    "tags": []
   },
   "outputs": [
    {
     "output_type": "stream",
     "name": "stdout",
     "text": "Not Found\n"
    }
   ],
   "source": [
    "print(pre.get(0, 'Not Found'))"
   ]
  },
  {
   "cell_type": "code",
   "execution_count": 8,
   "metadata": {},
   "outputs": [
    {
     "output_type": "execute_result",
     "data": {
      "text/plain": "{1: 'Hokkaido', 2: 'Aomori', 3: 'Iwate', 4: 'Miyagi'}"
     },
     "metadata": {},
     "execution_count": 8
    }
   ],
   "source": [
    "pre[4] = 'Miyagi'\n",
    "pre"
   ]
  },
  {
   "cell_type": "code",
   "execution_count": 9,
   "metadata": {},
   "outputs": [
    {
     "output_type": "execute_result",
     "data": {
      "text/plain": "True"
     },
     "metadata": {},
     "execution_count": 9
    }
   ],
   "source": [
    "1 in pre"
   ]
  },
  {
   "cell_type": "code",
   "execution_count": 14,
   "metadata": {},
   "outputs": [
    {
     "output_type": "error",
     "ename": "KeyError",
     "evalue": "4",
     "traceback": [
      "\u001b[1;31m---------------------------------------------------------------------------\u001b[0m",
      "\u001b[1;31mKeyError\u001b[0m                                  Traceback (most recent call last)",
      "\u001b[1;32m<ipython-input-14-1f468a14f3a8>\u001b[0m in \u001b[0;36m<module>\u001b[1;34m\u001b[0m\n\u001b[1;32m----> 1\u001b[1;33m \u001b[1;32mdel\u001b[0m \u001b[0mpre\u001b[0m\u001b[1;33m[\u001b[0m\u001b[1;36m4\u001b[0m\u001b[1;33m]\u001b[0m\u001b[1;33m\u001b[0m\u001b[1;33m\u001b[0m\u001b[0m\n\u001b[0m",
      "\u001b[1;31mKeyError\u001b[0m: 4"
     ]
    }
   ],
   "source": [
    "del pre[4]"
   ]
  },
  {
   "cell_type": "code",
   "execution_count": 13,
   "metadata": {},
   "outputs": [
    {
     "output_type": "execute_result",
     "data": {
      "text/plain": "{1: 'Hokkaido', 2: 'Aomori', 3: 'Iwate'}"
     },
     "metadata": {},
     "execution_count": 13
    }
   ],
   "source": [
    "pre"
   ]
  },
  {
   "cell_type": "code",
   "execution_count": 15,
   "metadata": {},
   "outputs": [
    {
     "output_type": "execute_result",
     "data": {
      "text/plain": "'Iwate'"
     },
     "metadata": {},
     "execution_count": 15
    }
   ],
   "source": [
    "pre.pop(3)"
   ]
  },
  {
   "cell_type": "code",
   "execution_count": 16,
   "metadata": {},
   "outputs": [
    {
     "output_type": "execute_result",
     "data": {
      "text/plain": "{1: 'Hokkaido', 2: 'Aomori'}"
     },
     "metadata": {},
     "execution_count": 16
    }
   ],
   "source": [
    "pre"
   ]
  },
  {
   "cell_type": "code",
   "execution_count": null,
   "metadata": {},
   "outputs": [],
   "source": []
  },
  {
   "cell_type": "code",
   "execution_count": 18,
   "metadata": {},
   "outputs": [
    {
     "output_type": "execute_result",
     "data": {
      "text/plain": "{}"
     },
     "metadata": {},
     "execution_count": 18
    }
   ],
   "source": [
    "pre.clear()\n",
    "pre"
   ]
  },
  {
   "cell_type": "code",
   "execution_count": 19,
   "metadata": {
    "tags": []
   },
   "outputs": [
    {
     "output_type": "stream",
     "name": "stdout",
     "text": "1\n2\n3\n"
    }
   ],
   "source": [
    "pre = {1: 'Hokkaido', 2: 'Aomori', 3: 'Iwate'}\n",
    "for x in pre:\n",
    "    print(x)"
   ]
  },
  {
   "cell_type": "code",
   "execution_count": 20,
   "metadata": {
    "tags": []
   },
   "outputs": [
    {
     "output_type": "stream",
     "name": "stdout",
     "text": "1\n2\n3\n"
    }
   ],
   "source": [
    "for x in pre.keys():\n",
    "    print(x)"
   ]
  },
  {
   "cell_type": "code",
   "execution_count": 21,
   "metadata": {
    "tags": []
   },
   "outputs": [
    {
     "output_type": "stream",
     "name": "stdout",
     "text": "Hokkaido\nAomori\nIwate\n"
    }
   ],
   "source": [
    "for x in pre.values():\n",
    "    print(x)"
   ]
  },
  {
   "cell_type": "code",
   "execution_count": 22,
   "metadata": {
    "tags": []
   },
   "outputs": [
    {
     "output_type": "stream",
     "name": "stdout",
     "text": "1 Hokkaido\n2 Aomori\n3 Iwate\n"
    }
   ],
   "source": [
    "for key, x in pre.items():\n",
    "    print(key, x)"
   ]
  },
  {
   "cell_type": "code",
   "execution_count": 23,
   "metadata": {},
   "outputs": [
    {
     "output_type": "execute_result",
     "data": {
      "text/plain": "{1: 'Hokkaido', 2: 'Aomori', 3: 'Iwate'}"
     },
     "metadata": {},
     "execution_count": 23
    }
   ],
   "source": [
    "list1 = [1, 2, 3]\n",
    "list2 = ['Hokkaido', 'Aomori', 'Iwate']\n",
    "dict(zip(list1, list2))"
   ]
  },
  {
   "cell_type": "code",
   "execution_count": 24,
   "metadata": {
    "tags": []
   },
   "outputs": [
    {
     "output_type": "stream",
     "name": "stdout",
     "text": "Tokyo\nYuurakuchou\nShinbashi\n"
    }
   ],
   "source": [
    "yama = {0: 'Tokyo', 1: 'Yuurakuchou', 2: 'Shinbashi'}\n",
    "for v in yama.values():\n",
    "    print(v)"
   ]
  },
  {
   "cell_type": "code",
   "execution_count": 25,
   "metadata": {},
   "outputs": [
    {
     "output_type": "execute_result",
     "data": {
      "text/plain": "[['0001', 'Male', 'Yamada', 'Tarou', 25, 'Tokyo'],\n ['0002', 'Male', 'Satou', 'Takeshi', 27, 'kanagawa'],\n ['0003', 'Female', 'Tanaka', 'Yuko', 25, 'Saitama'],\n ['0004', 'Male', 'Suzuki', 'Ichiro', 35, 'Hokkaido']]"
     },
     "metadata": {},
     "execution_count": 25
    }
   ],
   "source": [
    "data = [\n",
    "    ['0001', 'Male', 'Yamada', 'Tarou', 25, 'Tokyo'],\n",
    "    ['0002', 'Male', 'Satou', 'Takeshi', 27, 'kanagawa'],\n",
    "    ['0003', 'Female', 'Tanaka', 'Yuko', 25, 'Saitama'],\n",
    "    ['0004', 'Male', 'Suzuki', 'Ichiro', 35, 'Hokkaido']\n",
    "]\n",
    "data"
   ]
  },
  {
   "cell_type": "code",
   "execution_count": 26,
   "metadata": {},
   "outputs": [],
   "source": [
    "mem = {}\n",
    "for record in data:\n",
    "    key = record[0]\n",
    "    info = record[1:]\n",
    "    mem[key] = info"
   ]
  },
  {
   "cell_type": "code",
   "execution_count": 27,
   "metadata": {
    "tags": []
   },
   "outputs": [
    {
     "output_type": "stream",
     "name": "stdout",
     "text": "number\tinformation\n0001 ['Male', 'Yamada', 'Tarou', 25, 'Tokyo']\n0002 ['Male', 'Satou', 'Takeshi', 27, 'kanagawa']\n0003 ['Female', 'Tanaka', 'Yuko', 25, 'Saitama']\n0004 ['Male', 'Suzuki', 'Ichiro', 35, 'Hokkaido']\n"
    }
   ],
   "source": [
    "print('number', 'information', sep = '\\t')\n",
    "for key, info in mem.items():\n",
    "    print(key, info)"
   ]
  },
  {
   "cell_type": "code",
   "execution_count": null,
   "metadata": {},
   "outputs": [],
   "source": []
  }
 ]
}