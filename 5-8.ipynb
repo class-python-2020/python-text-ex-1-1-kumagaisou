{
 "metadata": {
  "language_info": {
   "codemirror_mode": {
    "name": "ipython",
    "version": 3
   },
   "file_extension": ".py",
   "mimetype": "text/x-python",
   "name": "python",
   "nbconvert_exporter": "python",
   "pygments_lexer": "ipython3",
   "version": 3
  },
  "orig_nbformat": 2,
  "kernelspec": {
   "name": "python_defaultSpec_1597117409023",
   "display_name": "Python 3.8.2 32-bit"
  }
 },
 "nbformat": 4,
 "nbformat_minor": 2,
 "cells": [
  {
   "cell_type": "code",
   "execution_count": 1,
   "metadata": {},
   "outputs": [
    {
     "output_type": "execute_result",
     "data": {
      "text/plain": "{0: 0, 1: 1, 2: 4, 3: 9, 4: 16, 5: 25, 6: 36, 7: 49, 8: 64, 9: 81, 10: 100}"
     },
     "metadata": {},
     "execution_count": 1
    }
   ],
   "source": [
    "s_d = {x: x * x for x in range(11)}\n",
    "s_d"
   ]
  },
  {
   "cell_type": "code",
   "execution_count": 2,
   "metadata": {},
   "outputs": [
    {
     "output_type": "execute_result",
     "data": {
      "text/plain": "{(0, 0): 0, (0, 1): 0, (1, 0): 0, (1, 1): 1}"
     },
     "metadata": {},
     "execution_count": 2
    }
   ],
   "source": [
    "m_d = {(x, y): x * y for x in range(2) for y in range(2)}\n",
    "m_d"
   ]
  },
  {
   "cell_type": "code",
   "execution_count": 10,
   "metadata": {},
   "outputs": [
    {
     "output_type": "execute_result",
     "data": {
      "text/plain": "{('Hokkaido', 'Sapporo'): 100,\n ('Hokkaido', 'Hakodate'): 200,\n ('Tokyo', 'Minato'): 300,\n ('Kanagawa', 'Yokohama'): 400}"
     },
     "metadata": {},
     "execution_count": 10
    }
   ],
   "source": [
    "prefectures = ['Hokkaido', 'Hokkaido', 'Tokyo', 'Kanagawa']\n",
    "cities = ['Sapporo', 'Hakodate', 'Minato', 'Yokohama']\n",
    "poplations = [100, 200, 300, 400]\n",
    "poplation_dict = {(state,city): poplation for state, city, poplation in zip(prefectures, cities, poplations)}\n",
    "poplation_dict"
   ]
  },
  {
   "cell_type": "code",
   "execution_count": 14,
   "metadata": {},
   "outputs": [
    {
     "output_type": "execute_result",
     "data": {
      "text/plain": "{frozenset({0}): 0, frozenset({0, 1}): 0, frozenset({1}): 1}"
     },
     "metadata": {},
     "execution_count": 14
    }
   ],
   "source": [
    "m = {frozenset([x, y]): x*y for x in range(2) for y in range(2)}\n",
    "m"
   ]
  },
  {
   "cell_type": "code",
   "execution_count": 15,
   "metadata": {},
   "outputs": [
    {
     "output_type": "execute_result",
     "data": {
      "text/plain": "{0: {0: 0, 1: 0, 2: 0}, 1: {0: 0, 1: 1, 2: 2}, 2: {0: 0, 1: 2, 2: 4}}"
     },
     "metadata": {},
     "execution_count": 15
    }
   ],
   "source": [
    "{0: {0: 0, 1: 0, 2: 0}, 1: {0: 0, 1: 1, 2: 2}, 2: {0: 0, 1: 2, 2: 4}}"
   ]
  },
  {
   "cell_type": "code",
   "execution_count": 20,
   "metadata": {},
   "outputs": [
    {
     "output_type": "execute_result",
     "data": {
      "text/plain": "{0: {0: 0, 1: 0, 2: 0}, 1: {0: 0, 1: 1, 2: 2}, 2: {0: 0, 1: 2, 2: 4}}"
     },
     "metadata": {},
     "execution_count": 20
    }
   ],
   "source": [
    "m = {}\n",
    "I = 3\n",
    "J = 3\n",
    "for i in range(I):\n",
    "    m[i] = {}\n",
    "    for j in range(J):\n",
    "        m[i][j] = i*j\n",
    "m"
   ]
  },
  {
   "cell_type": "code",
   "execution_count": 21,
   "metadata": {},
   "outputs": [
    {
     "output_type": "execute_result",
     "data": {
      "text/plain": "{0: {0: 0, 1: 0, 2: 0}, 1: {0: 0, 1: 1, 2: 2}, 2: {0: 0, 1: 2, 2: 4}}"
     },
     "metadata": {},
     "execution_count": 21
    }
   ],
   "source": [
    "I = 3\n",
    "J = 3\n",
    "m = {i:{j:(i * j) for j in range(J)} for i in range(I)}\n",
    "m"
   ]
  },
  {
   "cell_type": "code",
   "execution_count": 22,
   "metadata": {},
   "outputs": [
    {
     "output_type": "execute_result",
     "data": {
      "text/plain": "4"
     },
     "metadata": {},
     "execution_count": 22
    }
   ],
   "source": [
    "m[2][2]"
   ]
  },
  {
   "cell_type": "code",
   "execution_count": 23,
   "metadata": {
    "tags": []
   },
   "outputs": [
    {
     "output_type": "stream",
     "name": "stdout",
     "text": "key1\tkey2\tval\n0\t0\t0\n0\t1\t0\n0\t2\t0\n1\t0\t0\n1\t1\t1\n1\t2\t2\n2\t0\t0\n2\t1\t2\n2\t2\t4\n"
    }
   ],
   "source": [
    "print('key1', 'key2', 'val', sep = '\\t')\n",
    "for i, v1 in m.items():\n",
    "    for j, v2 in v1.items():\n",
    "        print(i, j, v2, sep = '\\t')"
   ]
  },
  {
   "cell_type": "code",
   "execution_count": 25,
   "metadata": {},
   "outputs": [],
   "source": [
    "c_c = {\n",
    "    'Iceland': {'code': 354, 'capital': 'Reykjavik'},\n",
    "    'Ireland': {'code': 353, 'capital': 'Doblin'},\n",
    "    'Azerbaibjan': {'code': 994, 'capital': 'Baku'}\n",
    "    }\n",
    "def g_k(x):\n",
    "    if isinstance(x, dict):\n",
    "        return x\n",
    "    m_s = ''\n",
    "    for key, val in x.items():\n",
    "        m_s = ''\n",
    "        for key, val in x.items():\n",
    "            m_s += (' ' + str(key) + ' ' + g_k(val))\n",
    "        return m_s\n",
    "    \n",
    "    for key1, val1 in c_c.items():\n",
    "        print(key1, g_k(val1))"
   ]
  },
  {
   "cell_type": "code",
   "execution_count": 26,
   "metadata": {},
   "outputs": [
    {
     "output_type": "execute_result",
     "data": {
      "text/plain": "[['01', '0001', 'Male', 'Yamada', 'Tarou', 25, 'Tokyo'],\n ['01', '0002', 'Male', 'Satou', 'Takeshi', 27, 'Kanagawa'],\n ['01', '0003', 'Female', 'Tanaka', 'Yuko', 25, 'Saitama'],\n ['02', '0001', 'Male', 'Smith', 'Mike', 22, 'NewJersey'],\n ['02', '0002', 'Male', 'Turner', 'Tom', 27, 'Kansas'],\n ['02', '0003', 'Male', 'Jackson', 'David', 22, 'Florida']]"
     },
     "metadata": {},
     "execution_count": 26
    }
   ],
   "source": [
    "data = [\n",
    "    ['01', '0001', 'Male', 'Yamada', 'Tarou', 25, 'Tokyo'],\n",
    "    ['01', '0002', 'Male', 'Satou', 'Takeshi', 27, 'Kanagawa'],\n",
    "    ['01', '0003', 'Female', 'Tanaka', 'Yuko', 25, 'Saitama'],\n",
    "    ['02', '0001', 'Male', 'Smith', 'Mike', 22, 'NewJersey'],\n",
    "    ['02', '0002', 'Male', 'Turner', 'Tom', 27, 'Kansas'],\n",
    "    ['02', '0003', 'Male', 'Jackson', 'David', 22, 'Florida'] \n",
    "]\n",
    "data"
   ]
  },
  {
   "cell_type": "code",
   "execution_count": 27,
   "metadata": {},
   "outputs": [],
   "source": [
    "m_m = {}\n",
    "for record in data:\n",
    "    key = (record[0], record[1])\n",
    "    info = record[2:]\n",
    "    m_m[key] = info"
   ]
  },
  {
   "cell_type": "code",
   "execution_count": 28,
   "metadata": {
    "tags": []
   },
   "outputs": [
    {
     "output_type": "stream",
     "name": "stdout",
     "text": "number\tinfomation\n('01', '0001') ['Male', 'Yamada', 'Tarou', 25, 'Tokyo']\n('01', '0002') ['Male', 'Satou', 'Takeshi', 27, 'Kanagawa']\n('01', '0003') ['Female', 'Tanaka', 'Yuko', 25, 'Saitama']\n('02', '0001') ['Male', 'Smith', 'Mike', 22, 'NewJersey']\n('02', '0002') ['Male', 'Turner', 'Tom', 27, 'Kansas']\n('02', '0003') ['Male', 'Jackson', 'David', 22, 'Florida']\n"
    }
   ],
   "source": [
    "print('number', 'infomation', sep = '\\t')\n",
    "for key, info in m_m.items():\n",
    "    print(key, info)"
   ]
  }
 ]
}