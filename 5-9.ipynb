{
 "metadata": {
  "language_info": {
   "codemirror_mode": {
    "name": "ipython",
    "version": 3
   },
   "file_extension": ".py",
   "mimetype": "text/x-python",
   "name": "python",
   "nbconvert_exporter": "python",
   "pygments_lexer": "ipython3",
   "version": 3
  },
  "orig_nbformat": 2,
  "kernelspec": {
   "name": "python_defaultSpec_1597418705957",
   "display_name": "Python 3.8.2 32-bit"
  }
 },
 "nbformat": 4,
 "nbformat_minor": 2,
 "cells": [
  {
   "cell_type": "code",
   "execution_count": 1,
   "metadata": {
    "tags": []
   },
   "outputs": [
    {
     "output_type": "stream",
     "name": "stdout",
     "text": "1 one\n2 two\n3 three\n"
    }
   ],
   "source": [
    "indict = {'1': 'one', '2': 'two', '3': 'three'}\n",
    "for key, val in indict.items():\n",
    "    print(key, val)"
   ]
  },
  {
   "cell_type": "code",
   "execution_count": 2,
   "metadata": {
    "tags": []
   },
   "outputs": [
    {
     "output_type": "stream",
     "name": "stdout",
     "text": "0 fuji\n1 kitadake\n2 okuhodakadake\n"
    }
   ],
   "source": [
    "m = ['fuji', 'kitadake', 'okuhodakadake']\n",
    "for i, mt in enumerate(m):\n",
    "    print(i, mt)"
   ]
  },
  {
   "cell_type": "code",
   "execution_count": 3,
   "metadata": {
    "tags": []
   },
   "outputs": [
    {
     "output_type": "stream",
     "name": "stdout",
     "text": "1 fuji 3776\n2 kitadake 3193\n3 okuhodakadake 3190\n"
    }
   ],
   "source": [
    "o = [1, 2, 3]\n",
    "m = ['fuji', 'kitadake', 'okuhodakadake']\n",
    "h = [3776, 3193, 3190]\n",
    "for og, mt, ht in zip(o, m, h):\n",
    "    print(og, mt, ht)"
   ]
  },
  {
   "cell_type": "code",
   "execution_count": 4,
   "metadata": {
    "tags": []
   },
   "outputs": [
    {
     "output_type": "stream",
     "name": "stdout",
     "text": "fuji\nkitadake\nokuhodakadake\n"
    }
   ],
   "source": [
    "m = ['kitadake', 'okuhodakadake', 'fuji']\n",
    "for mt in sorted(m):\n",
    "    print(mt)"
   ]
  },
  {
   "cell_type": "code",
   "execution_count": 5,
   "metadata": {
    "tags": []
   },
   "outputs": [
    {
     "output_type": "stream",
     "name": "stdout",
     "text": "okuhodakadake\nkitadake\nfuji\n"
    }
   ],
   "source": [
    "m = ['fuji', 'kitadake', 'okuhodakadake']\n",
    "for mt in reversed(m):\n",
    "    print(mt)"
   ]
  },
  {
   "cell_type": "code",
   "execution_count": 6,
   "metadata": {
    "tags": []
   },
   "outputs": [
    {
     "output_type": "stream",
     "name": "stdout",
     "text": "fuji 3776\nkitadake 3193\nokuhadakadake 3190\n"
    }
   ],
   "source": [
    "m = {'fuji': 3776, 'kitadake': 3193, 'okuhadakadake': 3190}\n",
    "m_s = sorted(m.items(), key = lambda x: x[0])\n",
    "for key, val in m_s:\n",
    "    print(key, val)"
   ]
  },
  {
   "cell_type": "code",
   "execution_count": 7,
   "metadata": {
    "tags": []
   },
   "outputs": [
    {
     "output_type": "stream",
     "name": "stdout",
     "text": "okuhadakadake 3190\nkitadake 3193\nfuji 3776\n"
    }
   ],
   "source": [
    "m = {'fuji': 3776, 'kitadake': 3193, 'okuhadakadake': 3190}\n",
    "m_s = sorted(m.items(), key = lambda x: x[1])\n",
    "for key, val in m_s:\n",
    "    print(key, val)"
   ]
  },
  {
   "cell_type": "code",
   "execution_count": 8,
   "metadata": {
    "tags": []
   },
   "outputs": [
    {
     "output_type": "stream",
     "name": "stdout",
     "text": "fuji 3776\nkitadake 3193\nokuhadakadake 3190\n"
    }
   ],
   "source": [
    "for key, val in reversed(m_s):\n",
    "    print(key, val)"
   ]
  },
  {
   "cell_type": "code",
   "execution_count": 10,
   "metadata": {
    "tags": []
   },
   "outputs": [
    {
     "output_type": "stream",
     "name": "stdout",
     "text": "[('fuji', 3776), ('kitadake', 3193), ('okuhodakadake', 3190), ('dummy', 0)]\n"
    }
   ],
   "source": [
    "m = {'fuji': 3776, 'kitadake': 3193, 'okuhodakadake': 3190, 'dummy': 0}\n",
    "m_s = sorted(m.items(), key = lambda x: x[1], reverse = True)\n",
    "print(m_s)"
   ]
  },
  {
   "cell_type": "code",
   "execution_count": 11,
   "metadata": {},
   "outputs": [
    {
     "output_type": "execute_result",
     "data": {
      "text/plain": "[('dummy', 0), ('okuhodakadake', 3190), ('kitadake', 3193), ('fuji', 3776)]"
     },
     "metadata": {},
     "execution_count": 11
    }
   ],
   "source": [
    "m_i = m.items()\n",
    "sorted(m_i, key = lambda x: x[1])"
   ]
  },
  {
   "cell_type": "code",
   "execution_count": 14,
   "metadata": {},
   "outputs": [
    {
     "output_type": "execute_result",
     "data": {
      "text/plain": "[('dummy', 0), ('okuhodakadake', 3190), ('kitadake', 3193), ('fuji', 3776)]"
     },
     "metadata": {},
     "execution_count": 14
    }
   ],
   "source": [
    "from operator import itemgetter\n",
    "sorted(m_i, key = itemgetter(1))"
   ]
  },
  {
   "cell_type": "code",
   "execution_count": 15,
   "metadata": {
    "tags": []
   },
   "outputs": [
    {
     "output_type": "stream",
     "name": "stdout",
     "text": "[('fuji', 3776), ('kitadake', 3193), ('okuhodakadake', 3190), ('dummy', 0)]\n"
    },
    {
     "output_type": "execute_result",
     "data": {
      "text/plain": "[('dummy', 0), ('okuhodakadake', 3190), ('kitadake', 3193), ('fuji', 3776)]"
     },
     "metadata": {},
     "execution_count": 15
    }
   ],
   "source": [
    "from operator import attrgetter\n",
    "\n",
    "class M:\n",
    "    def __init__(self, my_name, my_height):\n",
    "        self.name = my_name\n",
    "        self.height = my_height\n",
    "    def __repr__(self):\n",
    "        return repr((self.name, self.height))\n",
    "m_c = [\n",
    "    M('fuji', 3776),\n",
    "    M('kitadake', 3193),\n",
    "    M('okuhodakadake', 3190),\n",
    "    M('dummy', 0)\n",
    "]\n",
    "print(m_c)\n",
    "sorted(m_c, key = attrgetter('height'))"
   ]
  },
  {
   "cell_type": "code",
   "execution_count": 17,
   "metadata": {},
   "outputs": [
    {
     "output_type": "error",
     "ename": "IndexError",
     "evalue": "list index out of range",
     "traceback": [
      "\u001b[1;31m---------------------------------------------------------------------------\u001b[0m",
      "\u001b[1;31mIndexError\u001b[0m                                Traceback (most recent call last)",
      "\u001b[1;32m<ipython-input-17-5492e06505d6>\u001b[0m in \u001b[0;36m<module>\u001b[1;34m\u001b[0m\n\u001b[0;32m      1\u001b[0m \u001b[0mh\u001b[0m \u001b[1;33m=\u001b[0m \u001b[1;33m[\u001b[0m\u001b[1;36m3776\u001b[0m\u001b[1;33m,\u001b[0m \u001b[1;36m3193\u001b[0m\u001b[1;33m,\u001b[0m \u001b[1;36m3190\u001b[0m\u001b[1;33m,\u001b[0m \u001b[1;32mNone\u001b[0m\u001b[1;33m,\u001b[0m \u001b[1;32mNone\u001b[0m\u001b[1;33m]\u001b[0m\u001b[1;33m\u001b[0m\u001b[1;33m\u001b[0m\u001b[0m\n\u001b[0;32m      2\u001b[0m \u001b[1;32mfor\u001b[0m \u001b[0mi\u001b[0m \u001b[1;32min\u001b[0m \u001b[0mrange\u001b[0m\u001b[1;33m(\u001b[0m\u001b[0mlen\u001b[0m\u001b[1;33m(\u001b[0m\u001b[0mh\u001b[0m\u001b[1;33m)\u001b[0m\u001b[1;33m)\u001b[0m\u001b[1;33m:\u001b[0m\u001b[1;33m\u001b[0m\u001b[1;33m\u001b[0m\u001b[0m\n\u001b[1;32m----> 3\u001b[1;33m     \u001b[1;32mif\u001b[0m \u001b[0mh\u001b[0m\u001b[1;33m[\u001b[0m\u001b[0mi\u001b[0m\u001b[1;33m]\u001b[0m \u001b[1;32mis\u001b[0m \u001b[1;32mNone\u001b[0m\u001b[1;33m:\u001b[0m\u001b[1;33m\u001b[0m\u001b[1;33m\u001b[0m\u001b[0m\n\u001b[0m\u001b[0;32m      4\u001b[0m         \u001b[1;32mdel\u001b[0m \u001b[0mh\u001b[0m\u001b[1;33m[\u001b[0m\u001b[0mi\u001b[0m\u001b[1;33m]\u001b[0m\u001b[1;33m\u001b[0m\u001b[1;33m\u001b[0m\u001b[0m\n",
      "\u001b[1;31mIndexError\u001b[0m: list index out of range"
     ]
    }
   ],
   "source": [
    "h = [3776, 3193, 3190, None, None]\n",
    "for i in range(len(h)):\n",
    "    if h[i] is None:\n",
    "        del h[i]"
   ]
  },
  {
   "cell_type": "code",
   "execution_count": 18,
   "metadata": {},
   "outputs": [
    {
     "output_type": "execute_result",
     "data": {
      "text/plain": "[3776, 3193, 3190, None]"
     },
     "metadata": {},
     "execution_count": 18
    }
   ],
   "source": [
    "h = [3776, 3193, 3190, None, None]\n",
    "u = []\n",
    "for i, ht in enumerate(h):\n",
    "    u.append(i)\n",
    "    if ht is None:\n",
    "        del h[i]\n",
    "h"
   ]
  },
  {
   "cell_type": "code",
   "execution_count": 19,
   "metadata": {},
   "outputs": [
    {
     "output_type": "execute_result",
     "data": {
      "text/plain": "[0, 1, 2, 3]"
     },
     "metadata": {},
     "execution_count": 19
    }
   ],
   "source": [
    "u"
   ]
  },
  {
   "cell_type": "code",
   "execution_count": 22,
   "metadata": {},
   "outputs": [
    {
     "output_type": "execute_result",
     "data": {
      "text/plain": "[3776, 3193, 3190]"
     },
     "metadata": {},
     "execution_count": 22
    }
   ],
   "source": [
    "h = [3776, 3193, 3190, None, None]\n",
    "for ht in h[:]:\n",
    "    if ht is None:\n",
    "        h.remove(ht)\n",
    "h"
   ]
  },
  {
   "cell_type": "code",
   "execution_count": 23,
   "metadata": {},
   "outputs": [
    {
     "output_type": "execute_result",
     "data": {
      "text/plain": "[3776, 3193, 3190]"
     },
     "metadata": {},
     "execution_count": 23
    }
   ],
   "source": [
    "h = [3776, 3193, 3190, None, None]\n",
    "h = [ht for ht in h if ht is not None]\n",
    "h"
   ]
  }
 ]
}