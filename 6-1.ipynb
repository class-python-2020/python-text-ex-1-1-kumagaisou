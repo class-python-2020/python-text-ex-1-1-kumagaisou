{
 "metadata": {
  "language_info": {
   "codemirror_mode": {
    "name": "ipython",
    "version": 3
   },
   "file_extension": ".py",
   "mimetype": "text/x-python",
   "name": "python",
   "nbconvert_exporter": "python",
   "pygments_lexer": "ipython3",
   "version": "3.8.2-final"
  },
  "orig_nbformat": 2,
  "kernelspec": {
   "name": "python_defaultSpec_1597729042135",
   "display_name": "Python 3.8.2 32-bit"
  }
 },
 "nbformat": 4,
 "nbformat_minor": 2,
 "cells": [
  {
   "cell_type": "code",
   "execution_count": 1,
   "metadata": {},
   "outputs": [],
   "source": [
    "class Car:\n",
    "    pass"
   ]
  },
  {
   "cell_type": "code",
   "execution_count": 2,
   "metadata": {},
   "outputs": [
    {
     "output_type": "execute_result",
     "data": {
      "text/plain": "__main__.Car"
     },
     "metadata": {},
     "execution_count": 2
    }
   ],
   "source": [
    "m_c = Car()\n",
    "type(m_c)"
   ]
  },
  {
   "cell_type": "code",
   "execution_count": 3,
   "metadata": {},
   "outputs": [],
   "source": [
    "class Car:\n",
    "    n_w = 4"
   ]
  },
  {
   "cell_type": "code",
   "execution_count": 4,
   "metadata": {},
   "outputs": [
    {
     "output_type": "execute_result",
     "data": {
      "text/plain": "4"
     },
     "metadata": {},
     "execution_count": 4
    }
   ],
   "source": [
    "m_c = Car()\n",
    "m_c.n_w"
   ]
  },
  {
   "cell_type": "code",
   "execution_count": 5,
   "metadata": {},
   "outputs": [],
   "source": [
    "class Car:\n",
    "    weight = 4000\n",
    "    n_w = 4\n",
    "\n",
    "    def calc(self):\n",
    "        return 1000.0"
   ]
  },
  {
   "cell_type": "code",
   "execution_count": 6,
   "metadata": {},
   "outputs": [
    {
     "output_type": "execute_result",
     "data": {
      "text/plain": "1000.0"
     },
     "metadata": {},
     "execution_count": 6
    }
   ],
   "source": [
    "m_c = Car()\n",
    "m_c.calc()"
   ]
  },
  {
   "cell_type": "code",
   "execution_count": 7,
   "metadata": {},
   "outputs": [],
   "source": [
    "class Car:\n",
    "    weight = 4000\n",
    "    n_w = 4\n",
    "\n",
    "    def c_w(self):\n",
    "        return self.weight / self.n_w"
   ]
  },
  {
   "cell_type": "code",
   "execution_count": 9,
   "metadata": {},
   "outputs": [
    {
     "output_type": "execute_result",
     "data": {
      "text/plain": "1000.0"
     },
     "metadata": {},
     "execution_count": 9
    }
   ],
   "source": [
    "m_c = Car()\n",
    "m_c.c_w()"
   ]
  },
  {
   "cell_type": "code",
   "execution_count": 11,
   "metadata": {},
   "outputs": [],
   "source": [
    "class Car:\n",
    "    weight = 4000\n",
    "    n_w = 4\n",
    "\n",
    "    def __init__(self, c_name = 'NoName'):\n",
    "        self.name = c_name\n",
    "    \n",
    "    def calc(self):\n",
    "        return self.weight / self.n_w\n",
    "\n",
    "d = Car()"
   ]
  },
  {
   "cell_type": "code",
   "execution_count": 12,
   "metadata": {},
   "outputs": [
    {
     "output_type": "execute_result",
     "data": {
      "text/plain": "'NoName'"
     },
     "metadata": {},
     "execution_count": 12
    }
   ],
   "source": [
    "d.name"
   ]
  },
  {
   "cell_type": "code",
   "execution_count": 13,
   "metadata": {},
   "outputs": [
    {
     "output_type": "execute_result",
     "data": {
      "text/plain": "'DeLorean'"
     },
     "metadata": {},
     "execution_count": 13
    }
   ],
   "source": [
    "m_c = Car('DeLorean')\n",
    "m_c.name"
   ]
  },
  {
   "cell_type": "code",
   "execution_count": 14,
   "metadata": {},
   "outputs": [],
   "source": [
    "class Cat:\n",
    "    cry = 'にゃ～'\n",
    "    legs = 4\n",
    "    is_animal = True"
   ]
  },
  {
   "cell_type": "code",
   "execution_count": 15,
   "metadata": {},
   "outputs": [
    {
     "output_type": "execute_result",
     "data": {
      "text/plain": "'鳴き声: にゃ～, 足の数: 4, 動物: True'"
     },
     "metadata": {},
     "execution_count": 15
    }
   ],
   "source": [
    "tama = Cat()\n",
    "'鳴き声: {}, 足の数: {}, 動物: {}'.format(tama.cry, tama.legs, tama.is_animal)"
   ]
  },
  {
   "cell_type": "code",
   "execution_count": 19,
   "metadata": {},
   "outputs": [],
   "source": [
    "class Person:\n",
    "    def __init__(self, name = '', birth = '', address = ''):\n",
    "        self.name = name\n",
    "        self.birth = birth\n",
    "        self.address = address\n",
    "    \n",
    "    def show(self):\n",
    "        print('名前:', self.name)\n",
    "        print('生まれた年:', self.birth)\n",
    "        print('住所:', self.address)"
   ]
  },
  {
   "cell_type": "code",
   "execution_count": 20,
   "metadata": {
    "tags": []
   },
   "outputs": [
    {
     "output_type": "stream",
     "name": "stdout",
     "text": "名前: かぐや姫\n生まれた年: 685\n住所: 静岡県富士市\n"
    }
   ],
   "source": [
    "heroine = Person('かぐや姫', '685', '静岡県富士市')\n",
    "heroine.show()"
   ]
  },
  {
   "cell_type": "code",
   "execution_count": 21,
   "metadata": {
    "tags": []
   },
   "outputs": [
    {
     "output_type": "stream",
     "name": "stdout",
     "text": "名前: 金太郎\n生まれた年: 956\n住所: 静岡県駿東群小山町\n"
    }
   ],
   "source": [
    "hero  = Person('金太郎', '956', '静岡県駿東群小山町')\n",
    "hero.show()"
   ]
  }
 ]
}