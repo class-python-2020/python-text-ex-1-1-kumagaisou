{
 "metadata": {
  "language_info": {
   "codemirror_mode": {
    "name": "ipython",
    "version": 3
   },
   "file_extension": ".py",
   "mimetype": "text/x-python",
   "name": "python",
   "nbconvert_exporter": "python",
   "pygments_lexer": "ipython3",
   "version": "3.8.2-final"
  },
  "orig_nbformat": 2,
  "kernelspec": {
   "name": "python_defaultSpec_1597768617252",
   "display_name": "Python 3.8.2 32-bit"
  }
 },
 "nbformat": 4,
 "nbformat_minor": 2,
 "cells": [
  {
   "cell_type": "code",
   "execution_count": 1,
   "metadata": {
    "tags": []
   },
   "outputs": [
    {
     "output_type": "stream",
     "name": "stdout",
     "text": "abc\nggg\nubs\n"
    }
   ],
   "source": [
    "class Myclass:\n",
    "    def __init__(self, text = 'abc'):\n",
    "        self.text = text\n",
    "a = Myclass()\n",
    "b = Myclass(text = 'ggg')\n",
    "c = Myclass(text = 'ubs')\n",
    "\n",
    "print(a.text)\n",
    "print(b.text)\n",
    "print(c.text)"
   ]
  },
  {
   "cell_type": "code",
   "execution_count": 2,
   "metadata": {},
   "outputs": [
    {
     "output_type": "execute_result",
     "data": {
      "text/plain": "'xyz'"
     },
     "metadata": {},
     "execution_count": 2
    }
   ],
   "source": [
    "a.text = 'xyz'\n",
    "a.text"
   ]
  },
  {
   "cell_type": "code",
   "execution_count": 3,
   "metadata": {},
   "outputs": [
    {
     "output_type": "execute_result",
     "data": {
      "text/plain": "'another text'"
     },
     "metadata": {},
     "execution_count": 3
    }
   ],
   "source": [
    "a.new = 'another text'\n",
    "a.new"
   ]
  },
  {
   "cell_type": "code",
   "execution_count": 4,
   "metadata": {
    "tags": []
   },
   "outputs": [
    {
     "output_type": "stream",
     "name": "stdout",
     "text": "class value\n"
    }
   ],
   "source": [
    "class My_c:\n",
    "    common = 'class value'\n",
    "print(My_c.common)"
   ]
  },
  {
   "cell_type": "code",
   "execution_count": 5,
   "metadata": {},
   "outputs": [
    {
     "output_type": "execute_result",
     "data": {
      "text/plain": "'New class value'"
     },
     "metadata": {},
     "execution_count": 5
    }
   ],
   "source": [
    "My_c.common = 'New class value'\n",
    "My_c.common"
   ]
  },
  {
   "cell_type": "code",
   "execution_count": 6,
   "metadata": {},
   "outputs": [
    {
     "output_type": "execute_result",
     "data": {
      "text/plain": "'Another attribute member'"
     },
     "metadata": {},
     "execution_count": 6
    }
   ],
   "source": [
    "My_c.new = 'Another attribute member'\n",
    "My_c.new"
   ]
  },
  {
   "cell_type": "code",
   "execution_count": 7,
   "metadata": {},
   "outputs": [],
   "source": [
    "class Triangle:\n",
    "    num = 0\n",
    "\n",
    "    def __init__(self, base = 0, height = 0):\n",
    "        self.base = base\n",
    "        self.height = height\n",
    "        Triangle.num += 1\n",
    "    \n",
    "    def find(self):\n",
    "        b = self.base\n",
    "        h = self.height\n",
    "        return b * h / 2.0"
   ]
  },
  {
   "cell_type": "code",
   "execution_count": 8,
   "metadata": {},
   "outputs": [
    {
     "output_type": "execute_result",
     "data": {
      "text/plain": "0.5"
     },
     "metadata": {},
     "execution_count": 8
    }
   ],
   "source": [
    "t1 = Triangle(1, 1)\n",
    "t1.find()"
   ]
  },
  {
   "cell_type": "code",
   "execution_count": 9,
   "metadata": {},
   "outputs": [
    {
     "output_type": "execute_result",
     "data": {
      "text/plain": "1"
     },
     "metadata": {},
     "execution_count": 9
    }
   ],
   "source": [
    "Triangle.num"
   ]
  },
  {
   "cell_type": "code",
   "execution_count": 10,
   "metadata": {},
   "outputs": [
    {
     "output_type": "execute_result",
     "data": {
      "text/plain": "2"
     },
     "metadata": {},
     "execution_count": 10
    }
   ],
   "source": [
    "t2 = Triangle(2, 2)\n",
    "Triangle.num"
   ]
  },
  {
   "cell_type": "code",
   "execution_count": 11,
   "metadata": {},
   "outputs": [
    {
     "output_type": "execute_result",
     "data": {
      "text/plain": "3"
     },
     "metadata": {},
     "execution_count": 11
    }
   ],
   "source": [
    "t3= Triangle(3, 5)\n",
    "Triangle.num"
   ]
  },
  {
   "cell_type": "code",
   "execution_count": 12,
   "metadata": {},
   "outputs": [
    {
     "output_type": "execute_result",
     "data": {
      "text/plain": "(3, 3, 3, 3)"
     },
     "metadata": {},
     "execution_count": 12
    }
   ],
   "source": [
    "t1.num, t2.num, t3.num, Triangle.num"
   ]
  },
  {
   "cell_type": "code",
   "execution_count": 13,
   "metadata": {},
   "outputs": [
    {
     "output_type": "execute_result",
     "data": {
      "text/plain": "(5, 3, 3, 3)"
     },
     "metadata": {},
     "execution_count": 13
    }
   ],
   "source": [
    "t1.num = 5\n",
    "t1.num, t2.num, t3.num, Triangle.num"
   ]
  },
  {
   "cell_type": "code",
   "execution_count": 14,
   "metadata": {},
   "outputs": [
    {
     "output_type": "execute_result",
     "data": {
      "text/plain": "(5, 6, 6, 6)"
     },
     "metadata": {},
     "execution_count": 14
    }
   ],
   "source": [
    "Triangle.num = 6\n",
    "t1.num, t2.num, t3.num, Triangle.num"
   ]
  },
  {
   "cell_type": "code",
   "execution_count": 15,
   "metadata": {},
   "outputs": [],
   "source": [
    "class sample:\n",
    "    def __init__(self):\n",
    "        self.a = 1\n",
    "        self._b = 1\n",
    "        self.__c = 1\n",
    "        self.___d_ = 1\n",
    "        self.____e__ = 1\n",
    "    def show(self):\n",
    "        a = self.a\n",
    "        b = self._b\n",
    "        c = self.__c\n",
    "        d = self.___d_\n",
    "        e = self.____e__\n",
    "        print('a:{}, b: {}, c: {}, d: {}, e: {}'.format(a,b,c,d,e))"
   ]
  },
  {
   "cell_type": "code",
   "execution_count": 16,
   "metadata": {
    "tags": []
   },
   "outputs": [
    {
     "output_type": "stream",
     "name": "stdout",
     "text": "a:1, b: 1, c: 1, d: 1, e: 1\n"
    }
   ],
   "source": [
    "s = sample()\n",
    "s.show()"
   ]
  },
  {
   "cell_type": "code",
   "execution_count": 17,
   "metadata": {},
   "outputs": [
    {
     "output_type": "execute_result",
     "data": {
      "text/plain": "1"
     },
     "metadata": {},
     "execution_count": 17
    }
   ],
   "source": [
    "s.a"
   ]
  },
  {
   "cell_type": "code",
   "execution_count": 18,
   "metadata": {},
   "outputs": [
    {
     "output_type": "execute_result",
     "data": {
      "text/plain": "1"
     },
     "metadata": {},
     "execution_count": 18
    }
   ],
   "source": [
    "s._b"
   ]
  },
  {
   "cell_type": "code",
   "execution_count": 19,
   "metadata": {},
   "outputs": [
    {
     "output_type": "error",
     "ename": "AttributeError",
     "evalue": "'sample' object has no attribute '__c'",
     "traceback": [
      "\u001b[1;31m---------------------------------------------------------------------------\u001b[0m",
      "\u001b[1;31mAttributeError\u001b[0m                            Traceback (most recent call last)",
      "\u001b[1;32m<ipython-input-19-85e4a3ad4e9c>\u001b[0m in \u001b[0;36m<module>\u001b[1;34m\u001b[0m\n\u001b[1;32m----> 1\u001b[1;33m \u001b[0ms\u001b[0m\u001b[1;33m.\u001b[0m\u001b[0m__c\u001b[0m\u001b[1;33m\u001b[0m\u001b[1;33m\u001b[0m\u001b[0m\n\u001b[0m",
      "\u001b[1;31mAttributeError\u001b[0m: 'sample' object has no attribute '__c'"
     ]
    }
   ],
   "source": [
    "s.__c"
   ]
  },
  {
   "cell_type": "code",
   "execution_count": 20,
   "metadata": {},
   "outputs": [
    {
     "output_type": "execute_result",
     "data": {
      "text/plain": "(2, 2, 2, 2, 2)"
     },
     "metadata": {},
     "execution_count": 20
    }
   ],
   "source": [
    "s.a = 2\n",
    "s._b = 2\n",
    "s.__c = 2\n",
    "s.___d_ = 2\n",
    "s.____e__ = 2\n",
    "s.a, s._b, s.__c, s.___d_, s.____e__"
   ]
  },
  {
   "cell_type": "code",
   "execution_count": 25,
   "metadata": {},
   "outputs": [
    {
     "output_type": "execute_result",
     "data": {
      "text/plain": "(2, 2)"
     },
     "metadata": {},
     "execution_count": 25
    }
   ],
   "source": [
    "s.__c, s.___d_"
   ]
  },
  {
   "cell_type": "code",
   "execution_count": 36,
   "metadata": {},
   "outputs": [],
   "source": [
    "class cy:\n",
    "    pi = 3.14\n",
    "\n",
    "    def __init__(self, radius, height):\n",
    "        self.radius = float(radius)\n",
    "        self.height = float(height)\n",
    "    def calc_b(self):\n",
    "        pi = cy.pi\n",
    "        r = self.radius\n",
    "        return pi * r * r\n",
    "    def calc_s(self):\n",
    "        pi = cy.pi\n",
    "        r = self.radius\n",
    "        h = self.height\n",
    "        return 2 * pi * r * h\n",
    "    def calc_s_a(self):\n",
    "        c = self.calc_b()\n",
    "        s = self.calc_s()\n",
    "        return 2 * c + s\n",
    "    def calc_v(self):\n",
    "        c = self.calc_b()\n",
    "        h = self.height\n",
    "        return c * h\n",
    "    def show(self):\n",
    "        r = self.radius\n",
    "        h = self.height\n",
    "        S = self.calc_s_a()\n",
    "        V = self.calc_v()\n",
    "        print('半径:{}, 高さ:{},表面積:{},体積:{}'.format(r,h,S,V))"
   ]
  },
  {
   "cell_type": "code",
   "execution_count": 37,
   "metadata": {
    "tags": []
   },
   "outputs": [
    {
     "output_type": "stream",
     "name": "stdout",
     "text": "半径:1.0, 高さ:1.0,表面積:12.56,体積:3.14\n半径:1.0, 高さ:3.0,表面積:25.12,体積:9.42\n半径:2.0, 高さ:1.0,表面積:37.68,体積:12.56\n半径:2.0, 高さ:3.0,表面積:62.8,体積:37.68\n"
    }
   ],
   "source": [
    "c1 = cy(1., 1.)\n",
    "c1.show()\n",
    "c2 = cy(1., 3.)\n",
    "c2.show()\n",
    "c3 = cy(2., 1.)\n",
    "c3.show()\n",
    "c4 = cy(2., 3.)\n",
    "c4.show()"
   ]
  }
 ]
}