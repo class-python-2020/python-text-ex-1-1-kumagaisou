{
 "metadata": {
  "language_info": {
   "codemirror_mode": {
    "name": "ipython",
    "version": 3
   },
   "file_extension": ".py",
   "mimetype": "text/x-python",
   "name": "python",
   "nbconvert_exporter": "python",
   "pygments_lexer": "ipython3",
   "version": "3.8.2-final"
  },
  "orig_nbformat": 2,
  "kernelspec": {
   "name": "python_defaultSpec_1597898050166",
   "display_name": "Python 3.8.2 32-bit"
  }
 },
 "nbformat": 4,
 "nbformat_minor": 2,
 "cells": [
  {
   "cell_type": "code",
   "execution_count": 1,
   "metadata": {},
   "outputs": [],
   "source": [
    "class nigiri:\n",
    "    category = '握り'\n",
    "    top = 'ねた'\n",
    "    base = 'しゃり'\n",
    "    \n",
    "    def show(self):\n",
    "        print('top: {}, base: {}, category: {}'.format(self.top, self.base, self.category))"
   ]
  },
  {
   "cell_type": "code",
   "execution_count": 2,
   "metadata": {
    "tags": []
   },
   "outputs": [
    {
     "output_type": "stream",
     "name": "stdout",
     "text": "top: ねた, base: しゃり, category: 握り\n"
    }
   ],
   "source": [
    "n1 = nigiri()\n",
    "n1.show()"
   ]
  },
  {
   "cell_type": "code",
   "execution_count": 3,
   "metadata": {},
   "outputs": [],
   "source": [
    "class maguro(nigiri):\n",
    "    pass"
   ]
  },
  {
   "cell_type": "code",
   "execution_count": 5,
   "metadata": {
    "tags": []
   },
   "outputs": [
    {
     "output_type": "stream",
     "name": "stdout",
     "text": "top: ねた, base: しゃり, category: 握り\n"
    }
   ],
   "source": [
    "m1 = maguro()\n",
    "m1.show()"
   ]
  },
  {
   "cell_type": "code",
   "execution_count": 7,
   "metadata": {
    "tags": []
   },
   "outputs": [
    {
     "output_type": "stream",
     "name": "stdout",
     "text": "top: まぐろ, base: しゃり, category: 握り\n"
    }
   ],
   "source": [
    "class maguro(nigiri):\n",
    "    top = 'まぐろ'\n",
    "m3 = maguro()\n",
    "m3.show()"
   ]
  },
  {
   "cell_type": "code",
   "execution_count": 8,
   "metadata": {
    "tags": []
   },
   "outputs": [
    {
     "output_type": "stream",
     "name": "stdout",
     "text": "top: まぐろ, base: しゃり, category: 握り\n"
    }
   ],
   "source": [
    "class maguro(nigiri):\n",
    "    top = 'まぐろ'\n",
    "    price = 100\n",
    "m4 = maguro()\n",
    "m4.show()"
   ]
  },
  {
   "cell_type": "code",
   "execution_count": 11,
   "metadata": {
    "tags": []
   },
   "outputs": [
    {
     "output_type": "stream",
     "name": "stdout",
     "text": "base: しゃり, top: まぐろ\nprice: 100円\n"
    }
   ],
   "source": [
    "class maguro(nigiri):\n",
    "    top = 'まぐろ'\n",
    "    price = 100\n",
    "\n",
    "    def show(self):\n",
    "        print('base: {}, top: {}'.format(self.base, self.top))\n",
    "        print('price: {}円'.format(self.price))\n",
    "m5 = maguro()\n",
    "m5.show()"
   ]
  },
  {
   "cell_type": "code",
   "execution_count": 13,
   "metadata": {
    "tags": []
   },
   "outputs": [
    {
     "output_type": "stream",
     "name": "stdout",
     "text": "top: まぐろ, base: しゃり, category: 握り\nprice: 100円\n"
    }
   ],
   "source": [
    "class maguro(nigiri):\n",
    "    top = 'まぐろ'\n",
    "    price = 100\n",
    "    def show(self):\n",
    "        super().show()\n",
    "        print('price: {}円'.format(self.price))\n",
    "m5 = maguro()\n",
    "m5.show()"
   ]
  },
  {
   "cell_type": "code",
   "execution_count": 14,
   "metadata": {
    "tags": []
   },
   "outputs": [
    {
     "output_type": "stream",
     "name": "stdout",
     "text": "top: まぐろ, base: しゃり, category: 握り\n1冊(2かん)の値段: 200円\n"
    }
   ],
   "source": [
    "class maguro(nigiri):\n",
    "    top = 'まぐろ'\n",
    "    price = 100\n",
    "\n",
    "    def show(self):\n",
    "        super().show()\n",
    "    def show_p(self, num = 2):\n",
    "        result = self.price * num\n",
    "        print('1冊({}かん)の値段: {}円'.format(num, result))\n",
    "m5 = maguro()\n",
    "m5.show()\n",
    "m5.show_p()"
   ]
  },
  {
   "cell_type": "code",
   "execution_count": 15,
   "metadata": {},
   "outputs": [],
   "source": [
    "class nigiri_n(nigiri):\n",
    "    def __init__(self, wasabi = 'ワサビ抜き'):\n",
    "        self.wasabi = wasabi\n",
    "    def show(self):\n",
    "        super().show()\n",
    "        print('wasabi: {}'.format(self.wasabi))"
   ]
  },
  {
   "cell_type": "code",
   "execution_count": 16,
   "metadata": {
    "tags": []
   },
   "outputs": [
    {
     "output_type": "stream",
     "name": "stdout",
     "text": "top: まぐろ, base: しゃり, category: 握り\nwasabi: わさび入り\nprice: 100円\n"
    }
   ],
   "source": [
    "class maguro(nigiri_n):\n",
    "    top = 'まぐろ'\n",
    "    price = 100\n",
    "    def show(self):\n",
    "        super().show()\n",
    "        print('price: {}円'.format(self.price))\n",
    "m6 = maguro('わさび入り')\n",
    "m6.show()"
   ]
  },
  {
   "cell_type": "code",
   "execution_count": 21,
   "metadata": {
    "tags": []
   },
   "outputs": [
    {
     "output_type": "stream",
     "name": "stdout",
     "text": "musician リズム・メロディー・ハーモニー\nコードを書く\n楽器を演奏する\n"
    }
   ],
   "source": [
    "class pro:\n",
    "    def __init__(self):\n",
    "        self.skill = 'プログラミング'\n",
    "        print('programmer',self.skill)\n",
    "    def make(self):\n",
    "        print('コードを書く')\n",
    "class musi:\n",
    "    def __init__(self):\n",
    "        self.skill = 'リズム・メロディー・ハーモニー'\n",
    "        print('musician', self.skill)\n",
    "    def play(self):\n",
    "        print('楽器を演奏する')\n",
    "class m_p(musi, pro):\n",
    "    pass\n",
    " \n",
    " \n",
    "mp1 = m_p()\n",
    "mp1.make()\n",
    "mp1.play()"
   ]
  },
  {
   "cell_type": "code",
   "execution_count": 22,
   "metadata": {
    "tags": []
   },
   "outputs": [
    {
     "output_type": "stream",
     "name": "stdout",
     "text": "programmer プログラミング\nコードを書く\n楽器を演奏する\n"
    }
   ],
   "source": [
    "class p_m(pro, musi):\n",
    "    pass\n",
    "pm1 = p_m()\n",
    "pm1.make()\n",
    "pm1.play()"
   ]
  },
  {
   "cell_type": "code",
   "execution_count": 23,
   "metadata": {},
   "outputs": [],
   "source": [
    "class katsuo(nigiri):\n",
    "    top = 'かつお'\n",
    "    topping = '生姜とねぎ'\n",
    "    price = 100\n",
    "\n",
    "    def show(self):\n",
    "        super().show()\n",
    "        print('topping: {}'.format(self.topping))"
   ]
  },
  {
   "cell_type": "code",
   "execution_count": 24,
   "metadata": {
    "tags": []
   },
   "outputs": [
    {
     "output_type": "stream",
     "name": "stdout",
     "text": "top: かつお, base: しゃり, category: 握り\ntopping: 生姜とねぎ\n"
    }
   ],
   "source": [
    "k1 = katsuo()\n",
    "k1.show()"
   ]
  },
  {
   "cell_type": "code",
   "execution_count": 26,
   "metadata": {
    "tags": []
   },
   "outputs": [
    {
     "output_type": "stream",
     "name": "stdout",
     "text": "name: rectangle, width: 4, height: 3, angle: 90\nper: 14, area: 12\n"
    }
   ],
   "source": [
    "class rec:\n",
    "    angle = 90\n",
    "\n",
    "    def __init__(self, width, height):\n",
    "        self.name = 'rectangle'\n",
    "        self.width = width\n",
    "        self.height = height\n",
    "        self.perimeter = self.calc_perimeter()\n",
    "        self.area = self.calc_area()\n",
    "    def calc_perimeter(self):\n",
    "        w = self.width\n",
    "        h = self.height\n",
    "        return (w + h) * 2\n",
    "    def calc_area(self):\n",
    "        w = self.width\n",
    "        h = self.height\n",
    "        return w * h\n",
    "    def show(self):\n",
    "        ang = self.angle\n",
    "        n = self.name\n",
    "        w = self.width\n",
    "        h = self.height\n",
    "        p = self.perimeter\n",
    "        a = self.area\n",
    "        print('name: {}, width: {}, height: {}, angle: {}'.format(n, w, h, ang))\n",
    "        print('per: {}, area: {}'.format(p, a))\n",
    "r1 = rec(4,3)\n",
    "r1.show()"
   ]
  },
  {
   "cell_type": "code",
   "execution_count": 27,
   "metadata": {},
   "outputs": [],
   "source": [
    "class Squ(rec):\n",
    "    def __init__(self, width):\n",
    "        super().__init__(width, width)\n",
    "        self.name = 'square'"
   ]
  },
  {
   "cell_type": "code",
   "execution_count": 28,
   "metadata": {
    "tags": []
   },
   "outputs": [
    {
     "output_type": "stream",
     "name": "stdout",
     "text": "name: square, width: 4, height: 4, angle: 90\nper: 16, area: 16\n"
    }
   ],
   "source": [
    "s1 = Squ(4)\n",
    "s1.show()"
   ]
  },
  {
   "cell_type": "code",
   "execution_count": 30,
   "metadata": {
    "tags": []
   },
   "outputs": [
    {
     "output_type": "stream",
     "name": "stdout",
     "text": "name: square, width: 4, height: 4, angle: 90\nper: 16, area: <bound method rec.calc_area of <__main__.Squ object at 0x00E952B0>>\n"
    }
   ],
   "source": [
    "class Squ(rec):\n",
    "    def __init__(self, width):\n",
    "        self.name = 'square'\n",
    "        self.width = width\n",
    "        self.height = width\n",
    "        self.perimeter = self.calc_perimeter()\n",
    "        self.area = self.calc_area\n",
    "s2 = Squ(4)\n",
    "s2.show()"
   ]
  }
 ]
}